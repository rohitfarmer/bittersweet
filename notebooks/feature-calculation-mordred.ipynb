{
 "cells": [
  {
   "cell_type": "code",
   "execution_count": 27,
   "metadata": {},
   "outputs": [],
   "source": [
    "# External library.\n",
    "import pandas as pd\n",
    "from rdkit import Chem\n",
    "from mordred import Calculator, descriptors\n",
    "import warnings\n",
    "warnings.filterwarnings('ignore') # To suppress runtime and deprication warnings. "
   ]
  },
  {
   "cell_type": "code",
   "execution_count": 28,
   "metadata": {},
   "outputs": [],
   "source": [
    "# Load raw data.\n",
    "bitter_train = pd.read_csv('../data/bitter-train.tsv', sep='\\t')\n",
    "bitter_test = pd.read_csv('../data/bitter-test.tsv', sep='\\t')\n",
    "sweet_train = pd.read_csv('../data/sweet-train.tsv', sep='\\t')\n",
    "sweet_test = pd.read_csv('../data/sweet-test.tsv', sep='\\t')\n",
    "\n",
    "df_bitter = pd.DataFrame()\n",
    "df_sweet = pd.DataFrame()\n",
    "\n",
    "# Concatenate train and test sets in a single data frame. Useful for k-fold cross validation.\n",
    "df_bitter = pd.concat([bitter_train[['Name','SMILES','Taste']], bitter_test[['Name','SMILES','Taste']]])\n",
    "df_sweet = pd.concat([sweet_train[['Name','SMILES','Taste']], sweet_test[['Name','SMILES','Taste']] ])\n",
    "\n",
    "# Concatenate bitter and sweet dataframes into a single dataframe.\n",
    "# This data frame may have redundancies which will be removed after\n",
    "# canonicalising the SMILES because even the same molecule fetched\n",
    "# from different sources may have different SMILES. \n",
    "df = pd.DataFrame()\n",
    "df = pd.concat([df_bitter, df_sweet], sort=False)\n",
    "\n",
    "# Rename taste column as Target.\n",
    "df.rename(columns={'Taste':'Target'}, inplace=True)\n",
    "\n",
    "# Replace tasteless and non-bitter with ambiguous. \n",
    "df.Target.replace(to_replace=\"Tasteless\", value=\"Ambiguous\", inplace=True)\n",
    "df.Target.replace(to_replace=\"Non-bitter\", value=\"Ambiguous\", inplace=True)\n",
    "\n",
    "# Save the dataframe at this stage in case we may need it in this form\n",
    "# in the future analysis.\n",
    "df.to_csv(\"../output/all_data_pre_descriptor.tsv\", sep='\\t', compression='gzip')"
   ]
  },
  {
   "cell_type": "code",
   "execution_count": 29,
   "metadata": {},
   "outputs": [
    {
     "name": "stdout",
     "output_type": "stream",
     "text": [
      "Name      4557\n",
      "SMILES    4794\n",
      "Target    4794\n",
      "dtype: int64\n"
     ]
    },
    {
     "data": {
      "text/html": [
       "<div>\n",
       "<style scoped>\n",
       "    .dataframe tbody tr th:only-of-type {\n",
       "        vertical-align: middle;\n",
       "    }\n",
       "\n",
       "    .dataframe tbody tr th {\n",
       "        vertical-align: top;\n",
       "    }\n",
       "\n",
       "    .dataframe thead th {\n",
       "        text-align: right;\n",
       "    }\n",
       "</style>\n",
       "<table border=\"1\" class=\"dataframe\">\n",
       "  <thead>\n",
       "    <tr style=\"text-align: right;\">\n",
       "      <th></th>\n",
       "      <th>Name</th>\n",
       "      <th>SMILES</th>\n",
       "      <th>Target</th>\n",
       "    </tr>\n",
       "  </thead>\n",
       "  <tbody>\n",
       "  </tbody>\n",
       "</table>\n",
       "</div>"
      ],
      "text/plain": [
       "Empty DataFrame\n",
       "Columns: [Name, SMILES, Target]\n",
       "Index: []"
      ]
     },
     "execution_count": 29,
     "metadata": {},
     "output_type": "execute_result"
    }
   ],
   "source": [
    "print(df.count())\n",
    "df[df['SMILES'].isna()] # check if any of the SMILES is a NaN."
   ]
  },
  {
   "cell_type": "code",
   "execution_count": 30,
   "metadata": {},
   "outputs": [
    {
     "name": "stdout",
     "output_type": "stream",
     "text": [
      "Total number molecules that failed with exceptions:  48\n"
     ]
    }
   ],
   "source": [
    "# Convert SMILES into Canonical SMILES using RDKit.\n",
    "length = df.shape[0]\n",
    "\n",
    "name = []\n",
    "smiles = []\n",
    "canon_smiles = []\n",
    "target = []\n",
    "exceptions = 0\n",
    "for i in range(length):\n",
    "    try:\n",
    "        c = Chem.CanonSmiles(str(df.iloc[i]['SMILES']))\n",
    "        canon_smiles.append(c)\n",
    "        smiles.append(str(df.iloc[i]['SMILES']))\n",
    "        target.append(str(df.iloc[i]['Target']))\n",
    "        name.append(str(df.iloc[i]['Name']))\n",
    "    except:\n",
    "        exceptions += 1\n",
    "        continue\n",
    "\n",
    "print(\"Total number molecules that failed with exceptions: \", exceptions)\n",
    "dict_canon_smiles = {'Name':name, 'SMILES':smiles, 'Canonical SMILES':canon_smiles, 'Target':target}\n",
    "df_canon_smiles = pd.DataFrame(data=dict_canon_smiles)"
   ]
  },
  {
   "cell_type": "code",
   "execution_count": 31,
   "metadata": {},
   "outputs": [
    {
     "data": {
      "text/html": [
       "<div>\n",
       "<style scoped>\n",
       "    .dataframe tbody tr th:only-of-type {\n",
       "        vertical-align: middle;\n",
       "    }\n",
       "\n",
       "    .dataframe tbody tr th {\n",
       "        vertical-align: top;\n",
       "    }\n",
       "\n",
       "    .dataframe thead th {\n",
       "        text-align: right;\n",
       "    }\n",
       "</style>\n",
       "<table border=\"1\" class=\"dataframe\">\n",
       "  <thead>\n",
       "    <tr style=\"text-align: right;\">\n",
       "      <th></th>\n",
       "      <th>Name</th>\n",
       "      <th>SMILES</th>\n",
       "      <th>Canonical SMILES</th>\n",
       "      <th>Target</th>\n",
       "    </tr>\n",
       "  </thead>\n",
       "  <tbody>\n",
       "  </tbody>\n",
       "</table>\n",
       "</div>"
      ],
      "text/plain": [
       "Empty DataFrame\n",
       "Columns: [Name, SMILES, Canonical SMILES, Target]\n",
       "Index: []"
      ]
     },
     "execution_count": 31,
     "metadata": {},
     "output_type": "execute_result"
    }
   ],
   "source": [
    "df_canon_smiles[df_canon_smiles['Canonical SMILES'].isna()] # Check if any of the Canonical SMILES is a NaN."
   ]
  },
  {
   "cell_type": "code",
   "execution_count": 32,
   "metadata": {},
   "outputs": [
    {
     "name": "stdout",
     "output_type": "stream",
     "text": [
      "           Name  SMILES  Canonical SMILES  Target\n",
      "Target                                           \n",
      "Ambiguous   237     273               273       1\n",
      "Bitter      806     892               892       1\n",
      "Sweet      1172    1228              1228       1\n",
      "Total number of molecules: 2393\n"
     ]
    }
   ],
   "source": [
    "# Check for redundancy.\n",
    "df_canon_smiles.drop_duplicates(subset=\"Canonical SMILES\", inplace=True)\n",
    "\n",
    "# Reset index of the dataframe.\n",
    "df_canon_smiles.reset_index(drop=True, inplace = True)\n",
    "\n",
    "# Report target stats.\n",
    "print(df_canon_smiles.groupby(\"Target\").nunique())\n",
    "\n",
    "print(\"Total number of molecules:\", df_canon_smiles.shape[0])"
   ]
  },
  {
   "cell_type": "code",
   "execution_count": 33,
   "metadata": {},
   "outputs": [
    {
     "data": {
      "text/html": [
       "<div>\n",
       "<style scoped>\n",
       "    .dataframe tbody tr th:only-of-type {\n",
       "        vertical-align: middle;\n",
       "    }\n",
       "\n",
       "    .dataframe tbody tr th {\n",
       "        vertical-align: top;\n",
       "    }\n",
       "\n",
       "    .dataframe thead th {\n",
       "        text-align: right;\n",
       "    }\n",
       "</style>\n",
       "<table border=\"1\" class=\"dataframe\">\n",
       "  <thead>\n",
       "    <tr style=\"text-align: right;\">\n",
       "      <th></th>\n",
       "      <th>Name</th>\n",
       "      <th>SMILES</th>\n",
       "      <th>Canonical SMILES</th>\n",
       "      <th>Target</th>\n",
       "    </tr>\n",
       "  </thead>\n",
       "  <tbody>\n",
       "  </tbody>\n",
       "</table>\n",
       "</div>"
      ],
      "text/plain": [
       "Empty DataFrame\n",
       "Columns: [Name, SMILES, Canonical SMILES, Target]\n",
       "Index: []"
      ]
     },
     "execution_count": 33,
     "metadata": {},
     "output_type": "execute_result"
    }
   ],
   "source": [
    "df_canon_smiles[df_canon_smiles['Canonical SMILES'].isna()] # Check if any of the canonical SMILES is a NaN \n",
    "                                                            # after redundancy check and filter."
   ]
  },
  {
   "cell_type": "code",
   "execution_count": 34,
   "metadata": {},
   "outputs": [],
   "source": [
    "# Save data after redundancy check and filtering.\n",
    "df_canon_smiles.to_csv(\"../output/df_canon_smiles.tsv\", sep='\\t', compression='gzip') # For archiving."
   ]
  },
  {
   "cell_type": "code",
   "execution_count": 35,
   "metadata": {},
   "outputs": [
    {
     "name": "stdout",
     "output_type": "stream",
     "text": [
      "Total number of 2D descriptors: 1613\n",
      "Total number of molecules for descriptor calculation: 2393\n"
     ]
    }
   ],
   "source": [
    "# Prepare for 2D descriptor calculation.\n",
    "calc = Calculator(descriptors, ignore_3D=True)\n",
    "print(\"Total number of 2D descriptors:\", len(calc.descriptors))\n",
    "mols = [Chem.MolFromSmiles(smi) for smi in list(df_canon_smiles['Canonical SMILES'])]\n",
    "print(\"Total number of molecules for descriptor calculation:\", len(mols))"
   ]
  },
  {
   "cell_type": "code",
   "execution_count": 36,
   "metadata": {},
   "outputs": [],
   "source": [
    "# Calculate 2D descriptors and save them in a dataframe.\n",
    "df_desc = calc.pandas(mols, quiet = True, ipynb = True)"
   ]
  },
  {
   "cell_type": "code",
   "execution_count": 38,
   "metadata": {},
   "outputs": [],
   "source": [
    "# Consolidate name, SMILES, canonical SMILES, descriptors and target in the same dataframe.\n",
    "# Save the dataframe as a compressed .tsv.\n",
    "df_ = df_canon_smiles[['Name', 'SMILES', 'Canonical SMILES']]\n",
    "df_save = pd.concat([df_, df_desc, df_canon_smiles[['Target']]], axis=1)\n",
    "df_save.to_csv('../output/bitter_sweet_2d_descriptors.tsv.gz', sep='\\t', compression='gzip')\n",
    "df_save.to_pickle('../output/bitter_sweet_2d_descriptors.pkl.gz', compression='gzip')"
   ]
  },
  {
   "cell_type": "code",
   "execution_count": 39,
   "metadata": {},
   "outputs": [
    {
     "name": "stdout",
     "output_type": "stream",
     "text": [
      "Total number of 3D descriptors: 1826\n",
      "Total number of molecules for descriptor calculation: 2393\n"
     ]
    }
   ],
   "source": [
    "# Prepare for 2D + 3D descriptor calculation.\n",
    "calc = Calculator(descriptors, ignore_3D=False)\n",
    "print(\"Total number of 3D descriptors:\", len(calc.descriptors))\n",
    "mols = [Chem.MolFromSmiles(smi) for smi in list(df_canon_smiles['Canonical SMILES'])]\n",
    "print(\"Total number of molecules for descriptor calculation:\", len(mols))"
   ]
  },
  {
   "cell_type": "code",
   "execution_count": 40,
   "metadata": {},
   "outputs": [],
   "source": [
    "# Calculate 2D + 3D descriptors and save them in a dataframe.\n",
    "df_desc = calc.pandas(mols, quiet = True, ipynb = True)"
   ]
  },
  {
   "cell_type": "code",
   "execution_count": 41,
   "metadata": {},
   "outputs": [],
   "source": [
    "# Consolidate name, SMILES, canonical SMILES, descriptors and target in the same dataframe.\n",
    "# Save the dataframe as a compressed .tsv.\n",
    "df_ = df_canon_smiles[['Name', 'SMILES', 'Canonical SMILES']]\n",
    "df_save = pd.concat([df_, df_desc, df_canon_smiles[['Target']]], axis=1)\n",
    "df_save.to_csv('../output/bitter_sweet_2d_plus_3d_descriptors.tsv.gz', sep='\\t', compression='gzip')\n",
    "df_save.to_pickle('../output/bitter_sweet_2d_plus_3d_descriptors.pkl.gz', compression='gzip')"
   ]
  },
  {
   "cell_type": "code",
   "execution_count": null,
   "metadata": {},
   "outputs": [],
   "source": []
  }
 ],
 "metadata": {
  "kernelspec": {
   "display_name": "Python 3",
   "language": "python",
   "name": "python3"
  },
  "language_info": {
   "codemirror_mode": {
    "name": "ipython",
    "version": 3
   },
   "file_extension": ".py",
   "mimetype": "text/x-python",
   "name": "python",
   "nbconvert_exporter": "python",
   "pygments_lexer": "ipython3",
   "version": "3.7.3"
  }
 },
 "nbformat": 4,
 "nbformat_minor": 2
}
