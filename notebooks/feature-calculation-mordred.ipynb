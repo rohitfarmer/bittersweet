{
 "cells": [
  {
   "cell_type": "code",
   "execution_count": 1,
   "metadata": {},
   "outputs": [],
   "source": [
    "# External library.\n",
    "import pandas as pd\n",
    "from rdkit import Chem\n",
    "from mordred import Calculator, descriptors"
   ]
  },
  {
   "cell_type": "code",
   "execution_count": 86,
   "metadata": {},
   "outputs": [],
   "source": [
    "# Load raw data.\n",
    "bitter_train = pd.read_csv('../data/bitter-train.tsv', sep='\\t')\n",
    "bitter_test = pd.read_csv('../data/bitter-test.tsv', sep='\\t')\n",
    "sweet_train = pd.read_csv('../data/sweet-train.tsv', sep='\\t')\n",
    "sweet_test = pd.read_csv('../data/sweet-test.tsv', sep='\\t')\n",
    "\n",
    "df_bitter = pd.DataFrame()\n",
    "df_sweet = pd.DataFrame()\n",
    "\n",
    "# Concatenate train and test sets in a single data frame. Useful for k-fold cross validation.\n",
    "df_bitter = pd.concat([bitter_train[['Name','SMILES','Taste']], bitter_test[['Name','SMILES','Taste']]])\n",
    "df_sweet = pd.concat([sweet_train[['Name','SMILES','Taste']], sweet_test[['Name','SMILES','Taste']] ])\n",
    "\n",
    "# Concatenate bitter and sweet dataframes into a single dataframe.\n",
    "# This data frame may have redundancies which will be removed after\n",
    "# canonicalising the SMILES because even the same molecule fetched\n",
    "# from different sources may have different SMILES. \n",
    "df = pd.DataFrame()\n",
    "df = pd.concat([df_bitter, df_sweet], sort=False)\n",
    "\n",
    "# Rename taste column as Target.\n",
    "df.rename(columns={'Taste':'Target'}, inplace=True)\n",
    "\n",
    "# Replace tasteless and non-bitter with ambiguous. \n",
    "df.Target.replace(to_replace=\"Tasteless\", value=\"Ambiguous\", inplace=True)\n",
    "df.Target.replace(to_replace=\"Non-bitter\", value=\"Ambiguous\", inplace=True)\n",
    "\n",
    "# Save the dataframe at this stage in case we may need it in this form\n",
    "# in the future analysis.\n",
    "df.to_csv(\"../data/all_data_pre_descriptor.tsv\", sep='\\t', compression='gzip')"
   ]
  },
  {
   "cell_type": "code",
   "execution_count": 87,
   "metadata": {},
   "outputs": [
    {
     "name": "stdout",
     "output_type": "stream",
     "text": [
      "Total number molecules that failed with exceptions:  48\n"
     ]
    }
   ],
   "source": [
    "# Convert SMILES into Canonical SMILES using RDKit.\n",
    "length = df.shape[0]\n",
    "\n",
    "name = []\n",
    "smiles = []\n",
    "canon_smiles = []\n",
    "target = []\n",
    "exceptions = 0\n",
    "for i in range(length):\n",
    "    try:\n",
    "        c = Chem.CanonSmiles(str(df.iloc[i]['SMILES']))\n",
    "        canon_smiles.append(c)\n",
    "        smiles.append(str(df.iloc[i]['SMILES']))\n",
    "        target.append(str(df.iloc[i]['Target']))\n",
    "        name.append(str(df.iloc[i]['Name']))\n",
    "    except:\n",
    "        exceptions += 1\n",
    "        continue\n",
    "\n",
    "print(\"Total number molecules that failed with exceptions: \", exceptions)\n",
    "dict_canon_smiles = {'Name':name, 'SMILES':smiles, 'Canonical SMILES':canon_smiles, 'Target':target}\n",
    "df_canon_smiles = pd.DataFrame(data=dict_canon_smiles)"
   ]
  },
  {
   "cell_type": "code",
   "execution_count": 88,
   "metadata": {},
   "outputs": [
    {
     "name": "stdout",
     "output_type": "stream",
     "text": [
      "           Name  SMILES  Canonical SMILES  Target\n",
      "Target                                           \n",
      "Ambiguous   237     273               273       1\n",
      "Bitter      806     892               892       1\n",
      "Sweet      1172    1228              1228       1\n",
      "Total number of data points: 2393\n"
     ]
    }
   ],
   "source": [
    "# Check for redundancy.\n",
    "df_canon_smiles.drop_duplicates(subset=\"Canonical SMILES\", inplace=True)\n",
    "\n",
    "# Report target stats.\n",
    "print(df_canon_smiles.groupby(\"Target\").nunique())\n",
    "\n",
    "print(\"Total number of data points:\", df_canon_smiles.shape[0])"
   ]
  },
  {
   "cell_type": "code",
   "execution_count": 89,
   "metadata": {},
   "outputs": [],
   "source": [
    "# Save data after redundancy check and filtering.\n",
    "df_canon_smiles.to_pickle('../data/df_canon_smiles.pkl') # For faster execution.\n",
    "df_canon_smiles.to_csv(\"../data/df_canon_smiles.tsv\", sep='\\t', compression='gzip') # For archiving."
   ]
  },
  {
   "cell_type": "code",
   "execution_count": 91,
   "metadata": {},
   "outputs": [
    {
     "name": "stdout",
     "output_type": "stream",
     "text": [
      "Total number of 2D descriptors: 1613\n",
      "Total number of molecules for descriptor calculation: 2393\n"
     ]
    }
   ],
   "source": [
    "# Prepare for 2D descriptor calculation.\n",
    "calc = Calculator(descriptors, ignore_3D=True)\n",
    "print(\"Total number of 2D descriptors:\", len(calc.descriptors))\n",
    "mols = [Chem.MolFromSmiles(smi) for smi in list(df_canon_smiles['Canonical SMILES'])]\n",
    "print(\"Total number of molecules for descriptor calculation:\", len(mols))"
   ]
  },
  {
   "cell_type": "code",
   "execution_count": 92,
   "metadata": {},
   "outputs": [
    {
     "name": "stderr",
     "output_type": "stream",
     "text": [
      "  1%|          | 23/2393 [00:02<06:45,  5.85it/s]"
     ]
    },
    {
     "name": "stdout",
     "output_type": "stream",
     "text": [
      "/Users/farmerr2/anaconda3/envs/bitter/lib/python3.7/site-packages/numpy/core/fromnumeric.py:86: RuntimeWarning: overflow encountered in reduce\n",
      "  return ufunc.reduce(obj, axis, dtype, out, **passkwargs)\n"
     ]
    },
    {
     "name": "stderr",
     "output_type": "stream",
     "text": [
      " 26%|██▌       | 620/2393 [00:15<02:36, 11.31it/s]"
     ]
    },
    {
     "name": "stdout",
     "output_type": "stream",
     "text": [
      "/Users/farmerr2/anaconda3/envs/bitter/lib/python3.7/site-packages/numpy/core/fromnumeric.py:86: RuntimeWarning: overflow encountered in reduce\n",
      "  return ufunc.reduce(obj, axis, dtype, out, **passkwargs)\n"
     ]
    },
    {
     "name": "stderr",
     "output_type": "stream",
     "text": [
      " 38%|███▊      | 915/2393 [00:19<00:35, 41.74it/s]"
     ]
    },
    {
     "name": "stdout",
     "output_type": "stream",
     "text": [
      "/Users/farmerr2/anaconda3/envs/bitter/lib/python3.7/site-packages/numpy/core/fromnumeric.py:86: RuntimeWarning: overflow encountered in reduce\n",
      "  return ufunc.reduce(obj, axis, dtype, out, **passkwargs)\n"
     ]
    },
    {
     "name": "stderr",
     "output_type": "stream",
     "text": [
      " 39%|███▉      | 937/2393 [00:20<01:27, 16.70it/s]"
     ]
    },
    {
     "name": "stdout",
     "output_type": "stream",
     "text": [
      "/Users/farmerr2/anaconda3/envs/bitter/lib/python3.7/site-packages/numpy/core/fromnumeric.py:86: RuntimeWarning: overflow encountered in reduce\n",
      "  return ufunc.reduce(obj, axis, dtype, out, **passkwargs)\n"
     ]
    },
    {
     "name": "stderr",
     "output_type": "stream",
     "text": [
      " 39%|███▉      | 941/2393 [00:22<03:03,  7.92it/s]"
     ]
    },
    {
     "name": "stdout",
     "output_type": "stream",
     "text": [
      "/Users/farmerr2/anaconda3/envs/bitter/lib/python3.7/site-packages/numpy/core/fromnumeric.py:86: RuntimeWarning: overflow encountered in reduce\n",
      "  return ufunc.reduce(obj, axis, dtype, out, **passkwargs)\n"
     ]
    },
    {
     "name": "stderr",
     "output_type": "stream",
     "text": [
      " 40%|███▉      | 949/2393 [00:22<02:49,  8.54it/s]"
     ]
    },
    {
     "name": "stdout",
     "output_type": "stream",
     "text": [
      "/Users/farmerr2/anaconda3/envs/bitter/lib/python3.7/site-packages/numpy/core/fromnumeric.py:86: RuntimeWarning: overflow encountered in reduce\n",
      "  return ufunc.reduce(obj, axis, dtype, out, **passkwargs)\n"
     ]
    },
    {
     "name": "stderr",
     "output_type": "stream",
     "text": [
      " 41%|████      | 982/2393 [00:25<03:22,  6.97it/s]"
     ]
    },
    {
     "name": "stdout",
     "output_type": "stream",
     "text": [
      "/Users/farmerr2/anaconda3/envs/bitter/lib/python3.7/site-packages/numpy/core/fromnumeric.py:86: RuntimeWarning: overflow encountered in reduce\n",
      "  return ufunc.reduce(obj, axis, dtype, out, **passkwargs)\n"
     ]
    },
    {
     "name": "stderr",
     "output_type": "stream",
     "text": [
      " 41%|████      | 985/2393 [00:25<02:35,  9.05it/s]"
     ]
    },
    {
     "name": "stdout",
     "output_type": "stream",
     "text": [
      "/Users/farmerr2/anaconda3/envs/bitter/lib/python3.7/site-packages/numpy/core/fromnumeric.py:86: RuntimeWarning: overflow encountered in reduce\n",
      "  return ufunc.reduce(obj, axis, dtype, out, **passkwargs)\n"
     ]
    },
    {
     "name": "stderr",
     "output_type": "stream",
     "text": [
      " 61%|██████    | 1458/2393 [00:46<00:25, 36.36it/s]"
     ]
    },
    {
     "name": "stdout",
     "output_type": "stream",
     "text": [
      "/Users/farmerr2/anaconda3/envs/bitter/lib/python3.7/site-packages/numpy/core/fromnumeric.py:86: RuntimeWarning: overflow encountered in reduce\n",
      "  return ufunc.reduce(obj, axis, dtype, out, **passkwargs)\n"
     ]
    },
    {
     "name": "stderr",
     "output_type": "stream",
     "text": [
      " 73%|███████▎  | 1741/2393 [00:53<00:22, 29.37it/s]"
     ]
    },
    {
     "name": "stdout",
     "output_type": "stream",
     "text": [
      "/Users/farmerr2/anaconda3/envs/bitter/lib/python3.7/site-packages/numpy/core/fromnumeric.py:86: RuntimeWarning: overflow encountered in reduce\n",
      "  return ufunc.reduce(obj, axis, dtype, out, **passkwargs)\n"
     ]
    },
    {
     "name": "stderr",
     "output_type": "stream",
     "text": [
      " 97%|█████████▋| 2323/2393 [01:09<00:05, 12.19it/s]"
     ]
    },
    {
     "name": "stdout",
     "output_type": "stream",
     "text": [
      "/Users/farmerr2/anaconda3/envs/bitter/lib/python3.7/site-packages/numpy/core/fromnumeric.py:86: RuntimeWarning: overflow encountered in reduce\n",
      "  return ufunc.reduce(obj, axis, dtype, out, **passkwargs)\n"
     ]
    },
    {
     "name": "stderr",
     "output_type": "stream",
     "text": [
      "100%|██████████| 2393/2393 [01:10<00:00, 34.03it/s]\n"
     ]
    }
   ],
   "source": [
    "# Calculate 2D descriptors and save them in a dataframe.\n",
    "df_desc = calc.pandas(mols)\n",
    "df_desc.to_pickle('../data/df_2d_descriptors.pkl.gz', compression='gzip')"
   ]
  },
  {
   "cell_type": "code",
   "execution_count": 93,
   "metadata": {},
   "outputs": [],
   "source": [
    "# Consolidate name, SMILES, canonical SMILES, descriptors and target in the same dataframe.\n",
    "# Save the dataframe as a compressed .tsv.\n",
    "df_ = df_canon_smiles[['Name', 'SMILES', 'Canonical SMILES']]\n",
    "df_save = pd.concat([df_, df_desc, df_canon_smiles[['Target']]], axis=1)\n",
    "df_save.to_csv('../data/bitter_sweet_2d_descriptors.tsv.gz', sep='\\t', compression='gzip')\n",
    "df_save.to_pickle('../data/bitter_sweet_2d_descriptors.pkl.gz', compression='gzip')"
   ]
  },
  {
   "cell_type": "code",
   "execution_count": 97,
   "metadata": {},
   "outputs": [
    {
     "name": "stdout",
     "output_type": "stream",
     "text": [
      "Total number of 3D descriptors: 1826\n",
      "Total number of molecules for descriptor calculation: 2393\n"
     ]
    }
   ],
   "source": [
    "# Prepare for 2D + 3D descriptor calculation.\n",
    "calc = Calculator(descriptors, ignore_3D=False)\n",
    "print(\"Total number of 3D descriptors:\", len(calc.descriptors))\n",
    "mols = [Chem.MolFromSmiles(smi) for smi in list(df_canon_smiles['Canonical SMILES'])]\n",
    "print(\"Total number of molecules for descriptor calculation:\", len(mols))"
   ]
  },
  {
   "cell_type": "code",
   "execution_count": 98,
   "metadata": {},
   "outputs": [
    {
     "name": "stderr",
     "output_type": "stream",
     "text": [
      "  1%|          | 23/2393 [00:02<06:28,  6.10it/s]"
     ]
    },
    {
     "name": "stdout",
     "output_type": "stream",
     "text": [
      "/Users/farmerr2/anaconda3/envs/bitter/lib/python3.7/site-packages/numpy/core/fromnumeric.py:86: RuntimeWarning: overflow encountered in reduce\n",
      "  return ufunc.reduce(obj, axis, dtype, out, **passkwargs)\n"
     ]
    },
    {
     "name": "stderr",
     "output_type": "stream",
     "text": [
      " 39%|███▊      | 922/2393 [00:20<00:35, 41.45it/s]"
     ]
    },
    {
     "name": "stdout",
     "output_type": "stream",
     "text": [
      "/Users/farmerr2/anaconda3/envs/bitter/lib/python3.7/site-packages/numpy/core/fromnumeric.py:86: RuntimeWarning: overflow encountered in reduce\n",
      "  return ufunc.reduce(obj, axis, dtype, out, **passkwargs)\n"
     ]
    },
    {
     "name": "stderr",
     "output_type": "stream",
     "text": [
      " 39%|███▉      | 935/2393 [00:21<01:31, 15.86it/s]"
     ]
    },
    {
     "name": "stdout",
     "output_type": "stream",
     "text": [
      "/Users/farmerr2/anaconda3/envs/bitter/lib/python3.7/site-packages/numpy/core/fromnumeric.py:86: RuntimeWarning: overflow encountered in reduce\n",
      "  return ufunc.reduce(obj, axis, dtype, out, **passkwargs)\n"
     ]
    },
    {
     "name": "stderr",
     "output_type": "stream",
     "text": [
      " 40%|███▉      | 949/2393 [00:23<02:17, 10.49it/s]"
     ]
    },
    {
     "name": "stdout",
     "output_type": "stream",
     "text": [
      "/Users/farmerr2/anaconda3/envs/bitter/lib/python3.7/site-packages/numpy/core/fromnumeric.py:86: RuntimeWarning: overflow encountered in reduce\n",
      "  return ufunc.reduce(obj, axis, dtype, out, **passkwargs)\n"
     ]
    },
    {
     "name": "stderr",
     "output_type": "stream",
     "text": [
      " 41%|████      | 982/2393 [00:25<03:05,  7.63it/s]"
     ]
    },
    {
     "name": "stdout",
     "output_type": "stream",
     "text": [
      "/Users/farmerr2/anaconda3/envs/bitter/lib/python3.7/site-packages/numpy/core/fromnumeric.py:86: RuntimeWarning: overflow encountered in reduce\n",
      "  return ufunc.reduce(obj, axis, dtype, out, **passkwargs)\n"
     ]
    },
    {
     "name": "stderr",
     "output_type": "stream",
     "text": [
      " 41%|████      | 985/2393 [00:25<02:24,  9.74it/s]"
     ]
    },
    {
     "name": "stdout",
     "output_type": "stream",
     "text": [
      "/Users/farmerr2/anaconda3/envs/bitter/lib/python3.7/site-packages/numpy/core/fromnumeric.py:86: RuntimeWarning: overflow encountered in reduce\n",
      "  return ufunc.reduce(obj, axis, dtype, out, **passkwargs)\n"
     ]
    },
    {
     "name": "stderr",
     "output_type": "stream",
     "text": [
      " 55%|█████▌    | 1327/2393 [00:43<00:52, 20.26it/s]"
     ]
    },
    {
     "name": "stdout",
     "output_type": "stream",
     "text": [
      "/Users/farmerr2/anaconda3/envs/bitter/lib/python3.7/site-packages/numpy/core/fromnumeric.py:86: RuntimeWarning: overflow encountered in reduce\n",
      "  return ufunc.reduce(obj, axis, dtype, out, **passkwargs)\n"
     ]
    },
    {
     "name": "stderr",
     "output_type": "stream",
     "text": [
      " 56%|█████▌    | 1342/2393 [00:44<01:06, 15.72it/s]"
     ]
    },
    {
     "name": "stdout",
     "output_type": "stream",
     "text": [
      "/Users/farmerr2/anaconda3/envs/bitter/lib/python3.7/site-packages/numpy/core/fromnumeric.py:86: RuntimeWarning: overflow encountered in reduce\n",
      "  return ufunc.reduce(obj, axis, dtype, out, **passkwargs)\n"
     ]
    },
    {
     "name": "stderr",
     "output_type": "stream",
     "text": [
      " 61%|██████    | 1457/2393 [00:46<00:22, 40.91it/s]"
     ]
    },
    {
     "name": "stdout",
     "output_type": "stream",
     "text": [
      "/Users/farmerr2/anaconda3/envs/bitter/lib/python3.7/site-packages/numpy/core/fromnumeric.py:86: RuntimeWarning: overflow encountered in reduce\n",
      "  return ufunc.reduce(obj, axis, dtype, out, **passkwargs)\n"
     ]
    },
    {
     "name": "stderr",
     "output_type": "stream",
     "text": [
      " 67%|██████▋   | 1609/2393 [00:50<00:26, 29.81it/s]"
     ]
    },
    {
     "name": "stdout",
     "output_type": "stream",
     "text": [
      "/Users/farmerr2/anaconda3/envs/bitter/lib/python3.7/site-packages/numpy/core/fromnumeric.py:86: RuntimeWarning: overflow encountered in reduce\n",
      "  return ufunc.reduce(obj, axis, dtype, out, **passkwargs)\n"
     ]
    },
    {
     "name": "stderr",
     "output_type": "stream",
     "text": [
      "100%|██████████| 2393/2393 [01:12<00:00, 33.05it/s]\n"
     ]
    }
   ],
   "source": [
    "# Calculate 2D + 3D descriptors and save them in a dataframe.\n",
    "df_desc = calc.pandas(mols)\n",
    "df_desc.to_pickle('../data/df_2d_plus_3d_descriptors.pkl.gz', compression='gzip')"
   ]
  },
  {
   "cell_type": "code",
   "execution_count": 99,
   "metadata": {},
   "outputs": [],
   "source": [
    "# Consolidate name, SMILES, canonical SMILES, descriptors and target in the same dataframe.\n",
    "# Save the dataframe as a compressed .tsv.\n",
    "df_ = df_canon_smiles[['Name', 'SMILES', 'Canonical SMILES']]\n",
    "df_save = pd.concat([df_, df_desc, df_canon_smiles[['Target']]], axis=1)\n",
    "df_save.to_csv('../data/bitter_sweet_2d_plus_3d_descriptors.tsv.gz', sep='\\t', compression='gzip')\n",
    "df_save.to_pickle('../data/bitter_sweet_2d_plus_3d_descriptors.pkl.gz', compression='gzip')"
   ]
  },
  {
   "cell_type": "code",
   "execution_count": null,
   "metadata": {},
   "outputs": [],
   "source": []
  }
 ],
 "metadata": {
  "kernelspec": {
   "display_name": "Python 3",
   "language": "python",
   "name": "python3"
  },
  "language_info": {
   "codemirror_mode": {
    "name": "ipython",
    "version": 3
   },
   "file_extension": ".py",
   "mimetype": "text/x-python",
   "name": "python",
   "nbconvert_exporter": "python",
   "pygments_lexer": "ipython3",
   "version": "3.7.3"
  }
 },
 "nbformat": 4,
 "nbformat_minor": 2
}
