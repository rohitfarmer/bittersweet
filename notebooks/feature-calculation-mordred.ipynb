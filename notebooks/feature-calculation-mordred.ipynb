{
 "cells": [
  {
   "cell_type": "code",
   "execution_count": null,
   "metadata": {},
   "outputs": [],
   "source": [
    "# External library.\n",
    "import pandas as pd\n",
    "from rdkit import Chem\n",
    "from mordred import Calculator, descriptors"
   ]
  },
  {
   "cell_type": "code",
   "execution_count": null,
   "metadata": {},
   "outputs": [],
   "source": [
    "# Load raw data.\n",
    "bitter_train = pd.read_csv('../data/bitter-train.tsv', sep='\\t')\n",
    "bitter_test = pd.read_csv('../data/bitter-test.tsv', sep='\\t')\n",
    "sweet_train = pd.read_csv('../data/sweet-train.tsv', sep='\\t')\n",
    "sweet_test = pd.read_csv('../data/sweet-test.tsv', sep='\\t')\n",
    "\n",
    "df_bitter = pd.DataFrame()\n",
    "df_sweet = pd.DataFrame()\n",
    "\n",
    "df_bitter = pd.concat([bitter_train[['Name','SMILES', 'Bitter']], bitter_test[['Name','SMILES', 'Bitter']]])\n",
    "df_sweet = pd.concat([sweet_train[['Name','SMILES', 'Sweet']], sweet_test[['Name','SMILES', 'Sweet']] ])\n",
    "\n",
    "df_bitter.rename(columns={'Bitter':'Target'}, inplace=True)\n",
    "df_sweet.rename(columns={'Sweet':'Target'}, inplace=True)\n",
    "\n",
    "df_bitter.Target.replace(to_replace=True, value='Bitter', inplace=True)\n",
    "df_bitter.Target.replace(to_replace=False, value='Sweet', inplace=True)\n",
    "df_sweet.Target.replace(to_replace=True, value='Sweet', inplace=True)\n",
    "df_sweet.Target.replace(to_replace=False, value='Bitter', inplace=True)\n",
    "\n",
    "df = pd.DataFrame()\n",
    "df = pd.concat([df_bitter, df_sweet])"
   ]
  },
  {
   "cell_type": "code",
   "execution_count": null,
   "metadata": {},
   "outputs": [],
   "source": [
    "# Convert SMILES into Canonical SMILES using RDKit.\n",
    "length = df.shape[0]\n",
    "\n",
    "name = []\n",
    "smiles = []\n",
    "canon_smiles = []\n",
    "target = []\n",
    "for i in range(length):\n",
    "    try:\n",
    "        c = Chem.CanonSmiles(str(df.iloc[i]['SMILES']))\n",
    "        canon_smiles.append(c)\n",
    "        smiles.append(str(df.iloc[i]['SMILES']))\n",
    "        target.append(str(df.iloc[i]['Target']))\n",
    "        name.append(str(df.iloc[i]['Name']))\n",
    "    except:\n",
    "        continue\n",
    "\n",
    "dict_canon_smiles = {'Name':name, 'SMILES':smiles, 'Canonical SMILES':canon_smiles, 'Target':target}\n",
    "df_canon_smiles = pd.DataFrame(data=dict_canon_smiles)\n",
    "df_canon_smiles.to_pickle('../data/df_canon_smiles.pkl')"
   ]
  },
  {
   "cell_type": "code",
   "execution_count": null,
   "metadata": {},
   "outputs": [],
   "source": [
    "# Prepare for 2D descriptor calculation.\n",
    "calc = Calculator(descriptors, ignore_3D=True)\n",
    "print \"Total number of 2D descriptors:\", len(calc.descriptors)\n",
    "mols = [Chem.MolFromSmiles(smi) for smi in list(df_canon_smiles['Canonical SMILES'])]\n",
    "print \"Total number of molecules for descriptor calculation:\", len(mols)"
   ]
  },
  {
   "cell_type": "code",
   "execution_count": null,
   "metadata": {},
   "outputs": [],
   "source": [
    "# Calculate 2D descriptors and save them in a dataframe.\n",
    "df_desc = calc.pandas(mols)\n",
    "df_desc.to_pickle('../data/df_2d_descriptors.pkl.gz', compression='gzip')"
   ]
  },
  {
   "cell_type": "code",
   "execution_count": null,
   "metadata": {},
   "outputs": [],
   "source": [
    "# Consolidate name, SMILES, canonical SMILES, descriptors and target in the same dataframe.\n",
    "# Save the dataframe as a compressed .tsv.\n",
    "df_ = df_canon_smiles[['Name', 'SMILES', 'Canonical SMILES']]\n",
    "df_save = pd.concat([df_, df_desc, df_canon_smiles[['Target']]], axis=1)\n",
    "df_save.to_csv('../data/bitter_sweet_2d_descriptors.tsv.gz', sep='\\t', compression='gzip')\n",
    "df_save.to_pickle('../data/bitter_sweet_2d_descriptors.pkl.gz', compression='gzip')"
   ]
  },
  {
   "cell_type": "code",
   "execution_count": null,
   "metadata": {},
   "outputs": [],
   "source": [
    "# Prepare for 2D + 3D descriptor calculation.\n",
    "calc = Calculator(descriptors, ignore_3D=False)\n",
    "print \"Total number of 3D descriptors:\", len(calc.descriptors)\n",
    "mols = [Chem.MolFromSmiles(smi) for smi in list(df_canon_smiles['Canonical SMILES'])]\n",
    "print \"Total number of molecules for descriptor calculation:\", len(mols)"
   ]
  },
  {
   "cell_type": "code",
   "execution_count": null,
   "metadata": {},
   "outputs": [],
   "source": [
    "# Calculate 2D descriptors and save them in a dataframe.\n",
    "df_desc = calc.pandas(mols)\n",
    "df_desc.to_pickle('../data/df_2d_plus_3d_descriptors.pkl.gz', compression='gzip')"
   ]
  },
  {
   "cell_type": "code",
   "execution_count": null,
   "metadata": {},
   "outputs": [],
   "source": [
    "# Consolidate name, SMILES, canonical SMILES, descriptors and target in the same dataframe.\n",
    "# Save the dataframe as a compressed .tsv.\n",
    "df_ = df_canon_smiles[['Name', 'SMILES', 'Canonical SMILES']]\n",
    "df_save = pd.concat([df_, df_desc, df_canon_smiles[['Target']]], axis=1)\n",
    "df_save.to_csv('../data/bitter_sweet_2d_plus_3d_descriptors.tsv.gz', sep='\\t', compression='gzip')\n",
    "df_save.to_pickle('../data/bitter_sweet_2d_plus_3d_descriptors.pkl.gz', compression='gzip')"
   ]
  }
 ],
 "metadata": {
  "kernelspec": {
   "display_name": "Python 2",
   "language": "python",
   "name": "python2"
  },
  "language_info": {
   "codemirror_mode": {
    "name": "ipython",
    "version": 2
   },
   "file_extension": ".py",
   "mimetype": "text/x-python",
   "name": "python",
   "nbconvert_exporter": "python",
   "pygments_lexer": "ipython2",
   "version": "2.7.12"
  }
 },
 "nbformat": 4,
 "nbformat_minor": 2
}
