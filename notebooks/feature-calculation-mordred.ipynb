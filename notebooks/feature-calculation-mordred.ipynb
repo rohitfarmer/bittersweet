{
 "cells": [
  {
   "cell_type": "code",
   "execution_count": null,
   "metadata": {},
   "outputs": [],
   "source": [
    "# External library.\n",
    "import pandas as pd\n",
    "from rdkit import Chem\n",
    "from mordred import Calculator, descriptors\n",
    "import warnings\n",
    "warnings.filterwarnings('ignore') # To suppress runtime and deprication warnings. "
   ]
  },
  {
   "cell_type": "code",
   "execution_count": null,
   "metadata": {},
   "outputs": [],
   "source": [
    "# Load raw data.\n",
    "bitter_train = pd.read_csv('../data/bitter-train.tsv', sep='\\t')\n",
    "bitter_test = pd.read_csv('../data/bitter-test.tsv', sep='\\t')\n",
    "sweet_train = pd.read_csv('../data/sweet-train.tsv', sep='\\t')\n",
    "sweet_test = pd.read_csv('../data/sweet-test.tsv', sep='\\t')\n",
    "\n",
    "df_bitter = pd.DataFrame()\n",
    "df_sweet = pd.DataFrame()\n",
    "\n",
    "# Concatenate train and test sets in a single data frame. Useful for k-fold cross validation.\n",
    "df_bitter = pd.concat([bitter_train[['Name','SMILES','Taste']], bitter_test[['Name','SMILES','Taste']]])\n",
    "df_sweet = pd.concat([sweet_train[['Name','SMILES','Taste']], sweet_test[['Name','SMILES','Taste']] ])\n",
    "\n",
    "# Concatenate bitter and sweet dataframes into a single dataframe.\n",
    "# This data frame may have redundancies which will be removed after\n",
    "# canonicalising the SMILES because even the same molecule fetched\n",
    "# from different sources may have different SMILES. \n",
    "df = pd.DataFrame()\n",
    "df = pd.concat([df_bitter, df_sweet], sort=False)\n",
    "\n",
    "# Rename taste column as Target.\n",
    "df.rename(columns={'Taste':'Target'}, inplace=True)\n",
    "\n",
    "# Replace tasteless and non-bitter with non_bitter_sweet. \n",
    "df.Target.replace(to_replace=\"Tasteless\", value=\"Non_Bitter_Sweet\", inplace=True)\n",
    "df.Target.replace(to_replace=\"Non-bitter\", value=\"Non_Bitter_Sweet\", inplace=True)\n",
    "\n",
    "# Save the dataframe at this stage in case we may need it in this form\n",
    "# in the future analysis.\n",
    "df.to_csv(\"../output/all_data_pre_descriptor.tsv\", sep='\\t', compression='gzip')\n",
    "df.to_csv(\"../output/all_data_pre_descriptor_nogzip.tsv\", sep='\\t')"
   ]
  },
  {
   "cell_type": "code",
   "execution_count": null,
   "metadata": {},
   "outputs": [],
   "source": [
    "print(df.count())\n",
    "df[df['SMILES'].isna()] # check if any of the SMILES is a NaN."
   ]
  },
  {
   "cell_type": "code",
   "execution_count": null,
   "metadata": {},
   "outputs": [],
   "source": [
    "# Convert SMILES into Canonical SMILES using RDKit.\n",
    "length = df.shape[0]\n",
    "\n",
    "name = []\n",
    "smiles = []\n",
    "canon_smiles = []\n",
    "target = []\n",
    "exceptions = 0\n",
    "failed_smiles = []\n",
    "failed_name = []\n",
    "failed_target = []\n",
    "for i in range(length):\n",
    "    try:\n",
    "        c = Chem.CanonSmiles(str(df.iloc[i]['SMILES']))\n",
    "        canon_smiles.append(c)\n",
    "        smiles.append(str(df.iloc[i]['SMILES']))\n",
    "        target.append(str(df.iloc[i]['Target']))\n",
    "        name.append(str(df.iloc[i]['Name']))\n",
    "    except:\n",
    "        exceptions += 1\n",
    "        failed_smiles.append(str(df.iloc[i]['SMILES']))\n",
    "        failed_name.append(str(df.iloc[i]['Target']))\n",
    "        failed_target.append(str(df.iloc[i]['Name']))\n",
    "        continue\n",
    "\n"
   ]
  },
  {
   "cell_type": "code",
   "execution_count": null,
   "metadata": {},
   "outputs": [],
   "source": [
    "print(\"Total number molecules that failed with exceptions: \", exceptions)\n",
    "dict_canon_smiles = {'Name':name, 'SMILES':smiles, 'Canonical SMILES':canon_smiles, 'Target':target}\n",
    "df_canon_smiles = pd.DataFrame(data=dict_canon_smiles)\n",
    "\n",
    "# Failed molecules\n",
    "failed_dict_canon_smiles = {'Name':failed_name, 'SMILES':failed_smiles, 'Target':failed_target}\n",
    "failed_df_canon_smiles = pd.DataFrame(data=failed_dict_canon_smiles)"
   ]
  },
  {
   "cell_type": "code",
   "execution_count": null,
   "metadata": {},
   "outputs": [],
   "source": [
    "failed_df_canon_smiles.head"
   ]
  },
  {
   "cell_type": "code",
   "execution_count": null,
   "metadata": {},
   "outputs": [],
   "source": [
    "df_canon_smiles[df_canon_smiles['Canonical SMILES'].isna()] # Check if any of the Canonical SMILES is a NaN."
   ]
  },
  {
   "cell_type": "code",
   "execution_count": null,
   "metadata": {},
   "outputs": [],
   "source": [
    "# Check for redundancy.\n",
    "df_canon_smiles.drop_duplicates(subset=\"Canonical SMILES\", inplace=True)\n",
    "\n",
    "# Reset index of the dataframe.\n",
    "df_canon_smiles.reset_index(drop=True, inplace = True)\n",
    "\n",
    "# Report target stats.\n",
    "print(df_canon_smiles.groupby(\"Target\").nunique())\n",
    "\n",
    "print(\"Total number of molecules:\", df_canon_smiles.shape[0])"
   ]
  },
  {
   "cell_type": "code",
   "execution_count": null,
   "metadata": {},
   "outputs": [],
   "source": [
    "df_canon_smiles[df_canon_smiles['Canonical SMILES'].isna()] # Check if any of the canonical SMILES is a NaN \n",
    "                                                            # after redundancy check and filter."
   ]
  },
  {
   "cell_type": "code",
   "execution_count": null,
   "metadata": {},
   "outputs": [],
   "source": [
    "# Save data after redundancy check and filtering.\n",
    "df_canon_smiles.to_csv(\"../output/df_canon_smiles.tsv\", sep='\\t', compression='gzip') # For archiving.\n",
    "df_canon_smiles.to_csv(\"../output/df_canon_smiles_no_gzip.tsv\", sep='\\t') # For archiving.\n",
    "failed_df_canon_smiles.to_csv(\"../output/failed_df_canon_smiles_no_gzip.tsv\", sep='\\t') # For archiving."
   ]
  },
  {
   "cell_type": "code",
   "execution_count": null,
   "metadata": {},
   "outputs": [],
   "source": [
    "# Prepare for 2D descriptor calculation.\n",
    "calc = Calculator(descriptors, ignore_3D=True)\n",
    "print(\"Total number of 2D descriptors:\", len(calc.descriptors))\n",
    "mols = [Chem.MolFromSmiles(smi) for smi in list(df_canon_smiles['Canonical SMILES'])]\n",
    "print(\"Total number of molecules for descriptor calculation:\", len(mols))"
   ]
  },
  {
   "cell_type": "code",
   "execution_count": null,
   "metadata": {},
   "outputs": [],
   "source": [
    "# Calculate 2D descriptors and save them in a dataframe.\n",
    "df_desc = calc.pandas(mols, quiet = True, ipynb = True)"
   ]
  },
  {
   "cell_type": "code",
   "execution_count": null,
   "metadata": {},
   "outputs": [],
   "source": [
    "# Consolidate name, SMILES, canonical SMILES, descriptors and target in the same dataframe.\n",
    "# Save the dataframe as a compressed .tsv.\n",
    "df_ = df_canon_smiles[['Name', 'SMILES', 'Canonical SMILES']]\n",
    "df_save = pd.concat([df_, df_desc, df_canon_smiles[['Target']]], axis=1)\n",
    "df_save.to_csv('../output/bitter_sweet_2d_descriptors.tsv.gz', sep='\\t', compression='gzip')\n",
    "df_save.to_pickle('../output/bitter_sweet_2d_descriptors.pkl.gz', compression='gzip')"
   ]
  },
  {
   "cell_type": "code",
   "execution_count": null,
   "metadata": {},
   "outputs": [],
   "source": [
    "# Prepare for 2D + 3D descriptor calculation.\n",
    "calc = Calculator(descriptors, ignore_3D=False)\n",
    "print(\"Total number of 3D descriptors:\", len(calc.descriptors))\n",
    "mols = [Chem.MolFromSmiles(smi) for smi in list(df_canon_smiles['Canonical SMILES'])]\n",
    "print(\"Total number of molecules for descriptor calculation:\", len(mols))"
   ]
  },
  {
   "cell_type": "code",
   "execution_count": null,
   "metadata": {},
   "outputs": [],
   "source": [
    "# Calculate 2D + 3D descriptors and save them in a dataframe.\n",
    "df_desc = calc.pandas(mols, quiet = True, ipynb = True)"
   ]
  },
  {
   "cell_type": "code",
   "execution_count": null,
   "metadata": {},
   "outputs": [],
   "source": [
    "# Consolidate name, SMILES, canonical SMILES, descriptors and target in the same dataframe.\n",
    "# Save the dataframe as a compressed .tsv.\n",
    "df_ = df_canon_smiles[['Name', 'SMILES', 'Canonical SMILES']]\n",
    "df_save = pd.concat([df_, df_desc, df_canon_smiles[['Target']]], axis=1)\n",
    "df_save.to_csv('../output/bitter_sweet_2d_plus_3d_descriptors.tsv.gz', sep='\\t', compression='gzip')\n",
    "df_save.to_pickle('../output/bitter_sweet_2d_plus_3d_descriptors.pkl.gz', compression='gzip')"
   ]
  },
  {
   "cell_type": "code",
   "execution_count": null,
   "metadata": {},
   "outputs": [],
   "source": [
    "df_save.to_csv('../output/bitter_sweet_2d_plus_3d_descriptors_nogzip.tsv', sep='\\t')"
   ]
  },
  {
   "cell_type": "code",
   "execution_count": null,
   "metadata": {},
   "outputs": [],
   "source": []
  }
 ],
 "metadata": {
  "kernelspec": {
   "display_name": "Python 3.8.9 64-bit",
   "language": "python",
   "name": "python3"
  },
  "language_info": {
   "codemirror_mode": {
    "name": "ipython",
    "version": 3
   },
   "file_extension": ".py",
   "mimetype": "text/x-python",
   "name": "python",
   "nbconvert_exporter": "python",
   "pygments_lexer": "ipython3",
   "version": "3.8.9"
  },
  "vscode": {
   "interpreter": {
    "hash": "31f2aee4e71d21fbe5cf8b01ff0e069b9275f58929596ceb00d14d90e3e16cd6"
   }
  }
 },
 "nbformat": 4,
 "nbformat_minor": 2
}
