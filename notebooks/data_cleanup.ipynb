{
 "cells": [
  {
   "cell_type": "code",
   "execution_count": 182,
   "metadata": {},
   "outputs": [],
   "source": [
    "import pandas as pd\n",
    "import numpy as np"
   ]
  },
  {
   "cell_type": "code",
   "execution_count": 183,
   "metadata": {},
   "outputs": [],
   "source": [
    "def nan_filter(data, thresh=80, value='zero'):\n",
    "    \"\"\"\n",
    "    Purpose\n",
    "    -------\n",
    "    1. Drop columns with all the values as NaNs.\n",
    "    2. Drop columns with NaNs over a certian limit.\n",
    "    3. Replace NaNs with a value.\n",
    "    \n",
    "    Arguments\n",
    "    ---------\n",
    "    data: Dataframe.\n",
    "    thresh: Threshold for non-NaN values; default is 80%.\n",
    "    value: Value to replace NaN with; default is zero.\n",
    "           Options: 'zero', 'mean', 'median'\n",
    "    \n",
    "    Returns\n",
    "    -------\n",
    "    A modified Pandas dataframe.\n",
    "    \"\"\"\n",
    "    \n",
    "    data = data.dropna(axis='columns', how='all')\n",
    "    threshold = int((data.shape[0] * thresh) / 100)\n",
    "    data = data.dropna(axis='columns', thresh=thresh)\n",
    "    if value == 'zero':\n",
    "        data = data.apply(lambda x: x.fillna(0)) \n",
    "    elif value == 'mean':\n",
    "        data = data.apply(lambda x: x.fillna(x.mean()))\n",
    "    elif value == 'median':\n",
    "        data = data.apply(lambda x: x.fillna(x.median()))\n",
    "  \n",
    "    return data"
   ]
  },
  {
   "cell_type": "code",
   "execution_count": 184,
   "metadata": {},
   "outputs": [],
   "source": [
    "# Load data.\n",
    "df_2d = pd.read_pickle('../data/bitter_sweet_2d_descriptors.pkl.gz', compression='gzip')\n",
    "df_3d = pd.read_pickle('../data/bitter_sweet_2d_plus_3d_descriptors.pkl.gz', compression='gzip')"
   ]
  },
  {
   "cell_type": "code",
   "execution_count": 185,
   "metadata": {},
   "outputs": [
    {
     "name": "stdout",
     "output_type": "stream",
     "text": [
      "Number of molecules: 2393\n",
      "Total number of features in 2D dataset: 1617\n",
      "Total number of features in 3D dataset: 1830\n"
     ]
    }
   ],
   "source": [
    "print(\"Number of molecules:\", df_2d.shape[0])\n",
    "print(\"Total number of features in 2D dataset:\", df_2d.shape[1])\n",
    "print(\"Total number of features in 3D dataset:\", df_3d.shape[1])"
   ]
  },
  {
   "cell_type": "code",
   "execution_count": 186,
   "metadata": {},
   "outputs": [],
   "source": [
    "# Drop columns with names, SMILES, Canonical SMILES, and Target values. \n",
    "df_2d_ = df_2d.drop(labels = [\"Name\",\"SMILES\",\"Canonical SMILES\", \"Target\"], axis = 1)\n",
    "df_3d_ = df_3d.drop(labels = [\"Name\",\"SMILES\",\"Canonical SMILES\", \"Target\"], axis = 1)"
   ]
  },
  {
   "cell_type": "code",
   "execution_count": 187,
   "metadata": {},
   "outputs": [
    {
     "name": "stdout",
     "output_type": "stream",
     "text": [
      "Number of columns with non-numeric datatype: 914\n"
     ]
    }
   ],
   "source": [
    "# Check columns for data types and determine columns that are not numeric.\n",
    "dt = df_2d_.dtypes\n",
    "print(\"Number of columns with non-numeric datatype:\", dt[dt == \"object\"].count())\n",
    "dt_o = dt[dt == \"object\"]\n",
    "dt_o_indx = dt_o.index\n",
    "# df_2d[dt_o_indx] # Un comment to visualize the data frame.\n",
    "\n",
    "# Some of the cells have string annotations from Mordred.\n",
    "# Changing the data type of the dataframe will replace the annotations with Nans.\n",
    "df_2d_ = df_2d_.astype('float64')\n",
    "df_3d_ = df_3d_.astype(\"float64\")"
   ]
  },
  {
   "cell_type": "code",
   "execution_count": 188,
   "metadata": {},
   "outputs": [],
   "source": [
    "df_2d_[['Canonical SMILES', 'Target']] = df_2d[['Canonical SMILES', 'Target']]\n",
    "df_3d_[['Canonical SMILES', 'Target']] = df_3d[['Canonical SMILES', 'Target']]\n"
   ]
  },
  {
   "cell_type": "code",
   "execution_count": 189,
   "metadata": {},
   "outputs": [],
   "source": [
    "# Replace NaNs introduced either in feature calculation or in the step above.\n",
    "\n",
    "# This will replace all NaNs with zeros. Check docstring for other options.\n",
    "df_2d_zero = nan_filter(df_2d_) \n",
    "df_3d_zero = nan_filter(df_3d_)"
   ]
  },
  {
   "cell_type": "code",
   "execution_count": 190,
   "metadata": {},
   "outputs": [],
   "source": [
    "# Save cleaned data frames for further analysis.\n",
    "df_2d_zero.to_pickle('../output/df_2d_zero.pkl.gz', compression='gzip')\n",
    "df_3d_zero.to_pickle('../output/df_3d_zero.pkl.gz', compression='gzip')"
   ]
  },
  {
   "cell_type": "code",
   "execution_count": null,
   "metadata": {},
   "outputs": [],
   "source": []
  }
 ],
 "metadata": {
  "kernelspec": {
   "display_name": "Python 3",
   "language": "python",
   "name": "python3"
  },
  "language_info": {
   "codemirror_mode": {
    "name": "ipython",
    "version": 3
   },
   "file_extension": ".py",
   "mimetype": "text/x-python",
   "name": "python",
   "nbconvert_exporter": "python",
   "pygments_lexer": "ipython3",
   "version": "3.5.2"
  }
 },
 "nbformat": 4,
 "nbformat_minor": 2
}
