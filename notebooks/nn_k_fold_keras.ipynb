{
 "cells": [
  {
   "cell_type": "code",
   "execution_count": 1,
   "metadata": {},
   "outputs": [
    {
     "name": "stderr",
     "output_type": "stream",
     "text": [
      "Using TensorFlow backend.\n"
     ]
    }
   ],
   "source": [
    "# Python 2 script.\n",
    "from __future__ import division\n",
    "\n",
    "# External library.\n",
    "import pandas as pd\n",
    "import numpy as np\n",
    "import keras\n",
    "from keras.models import Sequential\n",
    "from keras.layers import Dense\n",
    "from keras import regularizers\n",
    "from sklearn.model_selection import StratifiedKFold\n",
    "from sklearn.metrics import roc_curve, auc\n",
    "import matplotlib.pyplot as plt\n",
    "%matplotlib inline"
   ]
  },
  {
   "cell_type": "code",
   "execution_count": 2,
   "metadata": {},
   "outputs": [],
   "source": [
    "def skf(X, y, folds = 10):\n",
    "    \"\"\"\n",
    "    Purpose\n",
    "    -------\n",
    "    To get stratified k fold index.\n",
    "    \n",
    "    Arguments\n",
    "    ---------\n",
    "    X: Pandas feature table.\n",
    "    y: Pandas target table.\n",
    "    folds: Number of folds.\n",
    "    \n",
    "    Returns\n",
    "    -------\n",
    "    Stratified k-fold object.\n",
    "    \"\"\"\n",
    "    skf = StratifiedKFold(n_splits=folds, shuffle=True, random_state=101)\n",
    "    skf.get_n_splits(X, y)\n",
    "    \n",
    "    return skf"
   ]
  },
  {
   "cell_type": "code",
   "execution_count": 3,
   "metadata": {},
   "outputs": [],
   "source": [
    "def nn_skf(X, y, skf, epochs=10):\n",
    "    \"\"\"\n",
    "    Purpose\n",
    "    -------\n",
    "    Traing k-fold models.\n",
    "    \n",
    "    Arguments\n",
    "    ---------\n",
    "    X: Pandas feature dataframe.\n",
    "    y: Pandas target dataframe.\n",
    "    skf: Stratified k-fold object.\n",
    "    \n",
    "    Return\n",
    "    ------\n",
    "    Loss and metrics as a list and a Pandas dataframe with predictions with the corresponding target values.\n",
    "    \"\"\"\n",
    "    model = Sequential()\n",
    "    model.add(Dense(units=40, input_dim=X.shape[1], activation='relu'))\n",
    "    model.add(Dense(units=1, activation='sigmoid', kernel_regularizer=regularizers.l2(0.01)))\n",
    "    \n",
    "    model.compile(loss='binary_crossentropy', optimizer='adam', metrics=['binary_accuracy'])\n",
    "    \n",
    "    loss_and_metrics = []\n",
    "    \n",
    "    df = pd.DataFrame(index = y.index, columns=['Pred','Target'])\n",
    "    \n",
    "    for train_index, test_index in skf.split(X, y):\n",
    "        X_train, X_test = X.loc[train_index], X.loc[test_index]\n",
    "        y_train, y_test = y.loc[train_index], y.loc[test_index]\n",
    "        model.fit(X_train, y_train, epochs=epochs, verbose=0)\n",
    "        \n",
    "        loss_and_metrics.append(model.evaluate(X_test, y_test, verbose=0))\n",
    "        \n",
    "        for i, value in enumerate(model.predict(X_test)):\n",
    "            df.loc[test_index[i], 'Pred'] = value[0]\n",
    "            df.loc[test_index[i], 'Target'] = y_test.loc[test_index[i]]['Target']\n",
    "    \n",
    "    return loss_and_metrics, df"
   ]
  },
  {
   "cell_type": "code",
   "execution_count": 4,
   "metadata": {},
   "outputs": [],
   "source": [
    "def roc_auc(y,predictions):\n",
    "    \"\"\"\n",
    "    Purpose\n",
    "    -------\n",
    "    To calcualte ROC and Auc value.\n",
    "    \n",
    "    Arguments\n",
    "    ---------\n",
    "    y: True target values.\n",
    "    predictions: Predicted values.\n",
    "    \n",
    "    Return\n",
    "    ------\n",
    "    A list with FPR, TPR and AUC.\n",
    "    \"\"\"\n",
    "    y = y[~y.isna()]\n",
    "    p_1 = pd.Series(index=y.index)\n",
    "    for ind in y.index:\n",
    "        p_1.loc[ind] = predictions.loc[ind]\n",
    "    y = np.asarray(y, dtype='int')\n",
    "    p_1 = np.asarray(p_1, dtype='float32')\n",
    "    fpr, tpr, t = roc_curve(y, p_1)\n",
    "    roc_auc = auc(fpr, tpr)\n",
    "    return [fpr, tpr, roc_auc]"
   ]
  },
  {
   "cell_type": "code",
   "execution_count": 5,
   "metadata": {},
   "outputs": [],
   "source": [
    "def roc_plot(roc_auc):\n",
    "    \"\"\"\n",
    "    Purpose\n",
    "    -------\n",
    "    Generate a ROC plot.\n",
    "    \n",
    "    Argument\n",
    "    --------\n",
    "    roc_auc: ROC and AUC values calcualted via roc_auc function.\n",
    "    \n",
    "    Return\n",
    "    ------\n",
    "    Matplot lib object.\n",
    "    \"\"\"\n",
    "    plt.figure(figsize=(7,5))\n",
    "    plt.title(\"ROC\", fontsize=16)\n",
    "    plt.ylabel('True Positive Rate', fontsize=16)\n",
    "    plt.xlabel('False Positive Rate', fontsize=16)\n",
    "    plt.plot(roc_auc[0], roc_auc[1], color='#880000', label='AUC = %0.2f'% roc_auc[2],  linewidth=2.0)\n",
    "    plt.plot([0,1],[0,1], color=\"black\", ls=\"--\")\n",
    "    plt.legend(loc='lower right', fontsize=16)\n",
    "    \n",
    "    return plt"
   ]
  },
  {
   "cell_type": "code",
   "execution_count": 6,
   "metadata": {},
   "outputs": [],
   "source": [
    "def avg_acc(result):\n",
    "    \"\"\"\n",
    "    Purpose\n",
    "    -------\n",
    "    To calculate average accuracy from a k-fold training run.\n",
    "    \n",
    "    Argument\n",
    "    --------\n",
    "    result: K fold accuracy.\n",
    "    \n",
    "    Return\n",
    "    ------\n",
    "    Average accuracy.\n",
    "    \"\"\"\n",
    "    total = 0\n",
    "    for i, value in enumerate(result):\n",
    "        total += value[1]\n",
    "    avg = total / (i+1)\n",
    "    \n",
    "    return avg"
   ]
  },
  {
   "cell_type": "markdown",
   "metadata": {},
   "source": [
    "## Train models for datasets with different features"
   ]
  },
  {
   "cell_type": "markdown",
   "metadata": {},
   "source": [
    "### Data with features selected according to variance."
   ]
  },
  {
   "cell_type": "code",
   "execution_count": 7,
   "metadata": {},
   "outputs": [],
   "source": [
    "# Reading pre-normalized data with features selected according to variance.\n",
    "df_var = pd.read_pickle('../data/X_var_400.pkl', compression='gzip')\n",
    "X_var = df_var[df_var.columns[:400]]\n",
    "y_var = pd.DataFrame(data = df_var['Target'], columns=['Target'])\n",
    "\n",
    "# Create stratified k-folds.\n",
    "skf_var = skf(X_var, y_var, folds=10)\n",
    "\n",
    "# Run k-fold training and prediction simultaneously.\n",
    "result_var, pred_var = nn_skf(X_var, y_var, skf_var, epochs=100)\n",
    "\n",
    "# Calculate AUC scorea and plot ROC.\n",
    "roc_auc_var = roc_auc(pred_var.Target, pred_var.Pred)"
   ]
  },
  {
   "cell_type": "code",
   "execution_count": 8,
   "metadata": {},
   "outputs": [
    {
     "name": "stdout",
     "output_type": "stream",
     "text": [
      "Average accuracy 0.8410213452213873\n"
     ]
    }
   ],
   "source": [
    "print \"Average accuracy\", avg_acc(result_var)"
   ]
  },
  {
   "cell_type": "code",
   "execution_count": 9,
   "metadata": {},
   "outputs": [
    {
     "data": {
      "image/png": "[encoded data removed]",
      "text/plain": [
       "<Figure size 504x360 with 1 Axes>"
      ]
     },
     "metadata": {
      "needs_background": "light"
     },
     "output_type": "display_data"
    }
   ],
   "source": [
    "roc_plot(roc_auc_var).show()"
   ]
  },
  {
   "cell_type": "markdown",
   "metadata": {},
   "source": [
    "### Data with features selected according k-best method."
   ]
  },
  {
   "cell_type": "code",
   "execution_count": null,
   "metadata": {},
   "outputs": [],
   "source": [
    "# Reading pre-normalized data with features selected according to variance.\n",
    "df_k = pd.read_pickle('../data/X_k_400.pkl', compression='gzip')\n",
    "X_k = df_k[df_k.columns[:400]]\n",
    "y_k = pd.DataFrame(data = df_k['Target'], columns=['Target'])\n",
    "\n",
    "# Create stratified k-folds.\n",
    "skf_k = skf(X_k, y_k, folds=10)\n",
    "\n",
    "# Run k-fold training and prediction simultaneously.\n",
    "result_k, pred_k = nn_skf(X_k, y_k, skf_k, epochs=100)\n",
    "\n",
    "# Calculate AUC score and plot ROC.\n",
    "roc_auc_k = roc_auc(pred_k.Target, pred_k.Pred)"
   ]
  },
  {
   "cell_type": "code",
   "execution_count": null,
   "metadata": {},
   "outputs": [],
   "source": [
    "print \"Average accuracy\", avg_acc(result_k)"
   ]
  },
  {
   "cell_type": "code",
   "execution_count": null,
   "metadata": {},
   "outputs": [],
   "source": [
    "roc_plot(roc_auc_k).show()"
   ]
  },
  {
   "cell_type": "code",
   "execution_count": null,
   "metadata": {},
   "outputs": [],
   "source": []
  }
 ],
 "metadata": {
  "kernelspec": {
   "display_name": "Python 2",
   "language": "python",
   "name": "python2"
  },
  "language_info": {
   "codemirror_mode": {
    "name": "ipython",
    "version": 2
   },
   "file_extension": ".py",
   "mimetype": "text/x-python",
   "name": "python",
   "nbconvert_exporter": "python",
   "pygments_lexer": "ipython2",
   "version": "2.7.12"
  }
 },
 "nbformat": 4,
 "nbformat_minor": 2
}
