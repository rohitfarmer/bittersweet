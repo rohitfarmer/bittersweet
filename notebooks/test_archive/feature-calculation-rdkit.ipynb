{
 "cells": [
  {
   "cell_type": "code",
   "execution_count": 1,
   "metadata": {},
   "outputs": [],
   "source": [
    "#!/usr/bin/python\n",
    "\n",
    "# Standard library.\n",
    "import urllib2\n",
    "\n",
    "# External library.\n",
    "import pandas as pd\n",
    "import rdkit.Chem as Chem\n",
    "# from rdkit.ML.Descriptors import MoleculeDescriptors as md\n",
    "from rdkit.Chem import Descriptors\n",
    "from rdkit.ML.Descriptors import MoleculeDescriptors"
   ]
  },
  {
   "cell_type": "code",
   "execution_count": 2,
   "metadata": {},
   "outputs": [],
   "source": [
    "def smi_to_iupac(smi):\n",
    "    '''\n",
    "    To fetch IUPAC name given a SMILES.\n",
    "    '''\n",
    "    try:\n",
    "        url = 'http://cactus.nci.nih.gov/chemical/structure/'+smi+'/iupac_name'\n",
    "        iupacName = urllib2.urlopen(url).read()\n",
    "#         return iupacName\n",
    "        if \"html\" in iupacName:\n",
    "            return None\n",
    "        else:\n",
    "            return iupacName\n",
    "\n",
    "    except urllib2.HTTPError, e:\n",
    "        print \"HTTP error: %d\" % e.code\n",
    "        return None\n",
    "    except urllib2.URLError, e:\n",
    "        print \"Network error: %s\" % e.reason.args[1]\n",
    "        return None\n",
    "    except:\n",
    "        print \"Conversion failed for smiles \"+ smi\n",
    "        return None"
   ]
  },
  {
   "cell_type": "code",
   "execution_count": 3,
   "metadata": {},
   "outputs": [],
   "source": [
    "# Load data.\n",
    "bitter_train = pd.read_csv('bitter-train.tsv', sep='\\t')\n",
    "bitter_test = pd.read_csv('bitter-test.tsv', sep='\\t')\n",
    "sweet_train = pd.read_csv('sweet-train.tsv', sep='\\t')\n",
    "sweet_test = pd.read_csv('sweet-test.tsv', sep='\\t')\n",
    "\n",
    "df_bitter = pd.DataFrame()\n",
    "df_sweet = pd.DataFrame()\n",
    "\n",
    "df_bitter = pd.concat([bitter_train[['Name','SMILES', 'Bitter']], bitter_test[['Name','SMILES', 'Bitter']]])\n",
    "df_sweet = pd.concat([sweet_train[['Name','SMILES', 'Sweet']], sweet_test[['Name','SMILES', 'Sweet']] ])\n",
    "\n",
    "df_bitter.rename(columns={'Bitter':'Target'}, inplace=True)\n",
    "df_sweet.rename(columns={'Sweet':'Target'}, inplace=True)\n",
    "\n",
    "df_bitter.Target.replace(to_replace=True, value='Bitter', inplace=True)\n",
    "df_bitter.Target.replace(to_replace=False, value='Sweet', inplace=True)\n",
    "df_sweet.Target.replace(to_replace=True, value='Sweet', inplace=True)\n",
    "df_sweet.Target.replace(to_replace=False, value='Bitter', inplace=True)\n",
    "\n",
    "df = pd.DataFrame()\n",
    "df = pd.concat([df_bitter, df_sweet])"
   ]
  },
  {
   "cell_type": "code",
   "execution_count": 4,
   "metadata": {},
   "outputs": [],
   "source": [
    "# length = df.shape[0]\n",
    "\n",
    "# count = 0\n",
    "\n",
    "# iupac_name = []\n",
    "# name = []\n",
    "# smiles = []\n",
    "# canon_smiles = []\n",
    "# target = []\n",
    "# for i in range(length):\n",
    "#     try:\n",
    "#         c = Chem.CanonSmiles(str(df.iloc[i]['SMILES']))\n",
    "#         canon_smiles.append(c)\n",
    "#         smiles.append(str(df.iloc[i]['SMILES']))\n",
    "#         target.append(str(df.iloc[i]['Target']))\n",
    "#         name.append(str(df.iloc[i]['Name']))\n",
    "#         iupac_name.append(smi_to_iupac(c))\n",
    "#     except:\n",
    "#         count += 1\n",
    "#         continue\n",
    "\n",
    "# dict_canon_smiles = {'Name':name,'IUPAC Name':iupac_name, 'SMILES':smiles, 'Canonical SMILES':canon_smiles, 'Target':target}\n",
    "# df_canon_smiles = pd.DataFrame(data=dict_canon_smiles)\n",
    "\n",
    "\n",
    "# df_canon_smiles.to_pickle('df_canon_smiles.pkl')"
   ]
  },
  {
   "cell_type": "code",
   "execution_count": 5,
   "metadata": {},
   "outputs": [],
   "source": [
    "df_can = pd.read_pickle('df_canon_smiles.pkl')"
   ]
  },
  {
   "cell_type": "code",
   "execution_count": 6,
   "metadata": {},
   "outputs": [],
   "source": [
    "# Calculate descriptors.\n",
    "desc_list = [x[0] for x in Descriptors._descList]\n",
    "calc = MoleculeDescriptors.MolecularDescriptorCalculator(desc_list)\n",
    "df_desc = pd.DataFrame(columns=desc_list, index=df_can.index)\n",
    "for i in df_can.index:\n",
    "    smi = df_can.loc[i]['Canonical SMILES']\n",
    "    mol = Chem.MolFromSmiles(smi)\n",
    "    ds = calc.CalcDescriptors(mol)\n",
    "    df_desc.loc[i]=list(ds)"
   ]
  },
  {
   "cell_type": "code",
   "execution_count": 7,
   "metadata": {},
   "outputs": [],
   "source": [
    "df_desc.to_pickle('df_desc.pkl')"
   ]
  },
  {
   "cell_type": "code",
   "execution_count": 8,
   "metadata": {},
   "outputs": [],
   "source": [
    "df_final = df_can[['Name', 'SMILES', 'Canonical SMILES']]"
   ]
  },
  {
   "cell_type": "code",
   "execution_count": 9,
   "metadata": {},
   "outputs": [],
   "source": [
    "df_save = pd.concat([df_final, df_desc, df_can[['Target']]], axis=1)"
   ]
  },
  {
   "cell_type": "code",
   "execution_count": 10,
   "metadata": {},
   "outputs": [],
   "source": [
    "df_save.to_csv('bitter_sweet.tsv', sep='\\t')"
   ]
  }
 ],
 "metadata": {
  "kernelspec": {
   "display_name": "Python 3",
   "language": "python",
   "name": "python3"
  },
  "language_info": {
   "codemirror_mode": {
    "name": "ipython",
    "version": 3
   },
   "file_extension": ".py",
   "mimetype": "text/x-python",
   "name": "python",
   "nbconvert_exporter": "python",
   "pygments_lexer": "ipython3",
   "version": "3.7.3"
  }
 },
 "nbformat": 4,
 "nbformat_minor": 2
}
